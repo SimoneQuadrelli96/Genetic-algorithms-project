{
 "cells": [
  {
   "cell_type": "code",
   "execution_count": 1,
   "metadata": {},
   "outputs": [],
   "source": [
    "import random\n",
    "import numpy as np\n",
    "import math\n",
    "import pickle\n",
    "import matplotlib.pyplot as plt\n",
    "from multiprocessing import Pool"
   ]
  },
  {
   "cell_type": "code",
   "execution_count": 2,
   "metadata": {},
   "outputs": [],
   "source": [
    "class GeneticAlgorithm:\n",
    "    \n",
    "    def __init__(self, n_cities, n_paths, mutation_probability):\n",
    "        self.n_cities = n_cities\n",
    "        self.n_paths = n_paths\n",
    "        self.mutation_probability = mutation_probability\n",
    "        #set up initial population matrix n_paths*(n_cities-1) since we start from city 0\n",
    "        self.population = np.outer(np.ones(n_paths), np.arange(1,n_cities))\n",
    "        #create the fist population by random permutation \n",
    "        self.population = np.apply_along_axis(np.random.permutation, 1, self.population)\n",
    "        \n",
    "    def distance (self,x1, y1, x2, y2):\n",
    "        return math.sqrt((x1-x2)**2 + (y1-y2)**2)\n",
    "    \n",
    "    def build_child(self,v1,v2):\n",
    "        intersection = np.intersect1d(v1,v2)\n",
    "        all_cities = np.arange(1,self.n_cities)\n",
    "        # check if v1 and v2 have cities in common\n",
    "        if (len(intersection) > 0):\n",
    "            diff = np.setdiff1d(v1, intersection)\n",
    "            # remove the cities from v1\n",
    "            v1 = [o for o in v1 if o in diff]\n",
    "        excluded = np.concatenate((v1,v2))\n",
    "        third = np.setdiff1d(all_cities, excluded)\n",
    "        return np.concatenate((v1,third,v2))\n",
    "        \n",
    "    def set_cities(self):\n",
    "        self.x_coord = np.random.uniform(0,100,self.n_cities)\n",
    "        self.y_coord = np.random.uniform(10,30,self.n_cities)\n",
    "        self.distances = np.zeros((self.n_cities,self.n_cities))\n",
    "        for i in range(self.n_cities):\n",
    "            for j in range(self.n_cities):\n",
    "                self.distances[i,j] = self.distance( self.x_coord[i],  self.y_coord[i],  self.x_coord[j],  self.y_coord[j])\n",
    "     \n",
    "    def initialize_cities(self,x_coord,y_coord):\n",
    "        self.x_coord = x_coord\n",
    "        self.y_coord = y_coord\n",
    "        self.distances = np.zeros((self.n_cities,self.n_cities))\n",
    "        for i in range(self.n_cities):\n",
    "            for j in range(self.n_cities):\n",
    "                self.distances[i,j] = self.distance( self.x_coord[i],  self.y_coord[i],  self.x_coord[j],  self.y_coord[j])\n",
    "     \n",
    "    def compute_fitness(self):\n",
    "        # returns indices ordered by their fitness value\n",
    "        fit_values = np.ones(self.n_paths)\n",
    "        pos = 0\n",
    "        for path in self.population:\n",
    "            l = 0\n",
    "            for i in range(self.n_cities-2):\n",
    "                l = l + self.distances[int(path[i]),int(path[i+1])]\n",
    "            #compute the distance from the starting city(0) to the first city in the path\n",
    "            l = l + self.distances[0,int(path[0])]\n",
    "            #compute the distance from the last city in the path to city 0\n",
    "            l = l + self.distances[int(path[self.n_cities-2]),0]\n",
    "            fit_values[pos] = l  \n",
    "            pos = pos + 1\n",
    "        return np.argsort(fit_values)\n",
    "    \n",
    "    #selection function\n",
    "    def selection(self):\n",
    "        indices = self.compute_fitness()\n",
    "        #select at most half of the paths\n",
    "        if self.n_paths//2 > 2:\n",
    "            p = np.random.randint(2,self.n_paths//2,1)\n",
    "        else:\n",
    "             p = np.random.randint(2,self.n_paths,1)\n",
    "        i = 0\n",
    "        #select the p fittest paths\n",
    "        self.fittest_parents = np.outer(np.ones(p), np.arange(1,self.n_cities))\n",
    "        while(i < p):\n",
    "            self.fittest_parents[i] = self.population[indices[i]]\n",
    "            i = i+1\n",
    "\n",
    "    #produce the childs by crossbreeding the p fittest parents\n",
    "    #the number of paths is the same\n",
    "    def crossbreeding(self):\n",
    "        n_parents = len(self.fittest_parents)\n",
    "        for i in range(self.n_paths-1):\n",
    "            #select the indices of the two parents\n",
    "            parent1 = np.random.randint(0,n_parents,1)[0]\n",
    "            parent2 = np.random.randint(0,n_parents,1)[0]\n",
    "            if (parent1 != parent2) :\n",
    "                #select where to split the parents\n",
    "                pos1 = np.random.randint(1,self.n_cities-1,1)[0]\n",
    "                pos2 = np.random.randint(1,self.n_cities-1,1)[0]\n",
    "                # select the parents\n",
    "                parent1 = self.fittest_parents[parent1]\n",
    "                parent2 = self.fittest_parents[parent2]\n",
    "                # build the children\n",
    "                self.population[i] = self.build_child(parent1[0:pos1], parent2[pos2:])\n",
    "                self.population[i+1] = self.build_child(parent1[pos2:], parent2[0:pos1])\n",
    "        \n",
    "    # random mutation in the path           \n",
    "    def mutate(self):\n",
    "        # mutate only in few cases\n",
    "        for i in range(self.n_paths):\n",
    "            p = np.random.uniform(0,1,1)[0]\n",
    "            if (p < self.mutation_probability):\n",
    "                # swap toe cities randomly\n",
    "                path = self.population[i]\n",
    "                pos1 = np.random.randint(0,self.n_cities-1,1)[0]\n",
    "                pos2 = np.random.randint(0,self.n_cities-1,1)[0]\n",
    "                path[[pos1, pos2]] = path[[pos2, pos1]]\n",
    "                self.population[i] = path\n",
    "    \n",
    "    #generates a new generation of paths\n",
    "    def evolve(self):\n",
    "        self.selection()\n",
    "        self.crossbreeding()\n",
    "        self.mutate()\n",
    "    \n",
    "    # returns the best fitness value of the current generation\n",
    "    def best_distance(self):\n",
    "        fit_values = np.ones(self.n_paths)\n",
    "        pos = 0\n",
    "        for path in self.population:\n",
    "            l = 0\n",
    "            for i in range(self.n_cities-2):\n",
    "                l = l + self.distances[int(path[i]),int(path[i+1])]\n",
    "            l = l + self.distances[0,int(path[0])]\n",
    "            l = l + self.distances[int(path[self.n_cities-2]),0]\n",
    "            fit_values[pos] = l  \n",
    "            pos = pos + 1\n",
    "        return np.min(fit_values)\n",
    "    \n",
    "    # returns the mean fitness value of the current generation\n",
    "    def mean_distance(self):\n",
    "        fit_values = np.ones(self.n_paths)\n",
    "        pos = 0\n",
    "        for path in self.population:\n",
    "            l = 0\n",
    "            for i in range(self.n_cities-2):\n",
    "                l = l + self.distances[int(path[i]),int(path[i+1])]\n",
    "            l = l + self.distances[0,int(path[0])]\n",
    "            l = l + self.distances[int(path[self.n_cities-2]),0]\n",
    "            fit_values[pos] = l  \n",
    "            pos = pos + 1\n",
    "        return np.min(fit_values)\n",
    "    \n",
    "    def best_path(self):\n",
    "        fit_values = np.ones(self.n_paths)\n",
    "        pos = 0\n",
    "        for path in self.population:\n",
    "            l = 0\n",
    "            for i in range(self.n_cities-2):\n",
    "                l = l + self.distances[int(path[i]),int(path[i+1])]\n",
    "            l = l + self.distances[0,int(path[0])]\n",
    "            l = l + self.distances[int(path[self.n_cities-2]),0]\n",
    "            fit_values[pos] = l  \n",
    "            pos = pos + 1\n",
    "        index_best_path = np.argmin(fit_values)\n",
    "        return self.population[index_best_path]"
   ]
  },
  {
   "cell_type": "code",
   "execution_count": 3,
   "metadata": {},
   "outputs": [],
   "source": [
    "# metropolis algorithm, tells whether or not to use the new state produced by the evolution\n",
    "def acceptance(cost_starting_state, cost_new_state, beta):\n",
    "    if cost_new_state <= cost_starting_state:\n",
    "        return True\n",
    "    else:\n",
    "        threshold = np.random.uniform(0,1,1)[0]\n",
    "        p = np.exp(- (cost_new_state - cost_starting_state)*beta)\n",
    "        return np.min(np.array([1,p])) > threshold"
   ]
  },
  {
   "cell_type": "code",
   "execution_count": 4,
   "metadata": {},
   "outputs": [],
   "source": [
    "#read the position of the cities\n",
    "with open('x.pickle', 'rb') as handle:\n",
    "    x_coord = pickle.load(handle)\n",
    "with open('y.pickle', 'rb') as handle:\n",
    "    y_coord = pickle.load(handle)"
   ]
  },
  {
   "cell_type": "code",
   "execution_count": 5,
   "metadata": {},
   "outputs": [],
   "source": [
    "def run_simulation(n_cities,n_paths,mutation_probability,betas,n_iterations, x_coord, y_coord):\n",
    "    ga = GeneticAlgorithm(n_cities,n_paths, mutation_probability)\n",
    "    #set un the coordinates and the distanes between the cities\n",
    "    ga.initialize_cities(x_coord,y_coord)\n",
    "    # SIMULATED ANNEALING\n",
    "    # number of itarations for each level of temperature (1/beta)\n",
    "    mean_distances = []\n",
    "    for beta in betas:\n",
    "        for i in range(n_iterations):\n",
    "            cost_starting_state = ga.compute_fitness()\n",
    "            starting_state = ga.population\n",
    "            ga.evolve()\n",
    "            cost_new_state = ga.compute_fitness()\n",
    "            for i in range(ga.n_paths):\n",
    "                # metropolis\n",
    "                if not acceptance(cost_starting_state[i], cost_new_state[i], beta):\n",
    "                      ga.population[i] = starting_state[i]\n",
    "        mean_distances.append(ga.mean_distance())\n",
    "    #extract the best path\n",
    "    return ga.best_path()"
   ]
  },
  {
   "cell_type": "code",
   "execution_count": 6,
   "metadata": {},
   "outputs": [],
   "source": [
    "n_simulations = 3\n",
    "n_cities = len(x_coord)\n",
    "n_paths = 20\n",
    "mutation_probability = 0.01\n",
    "betas = np.arange(1,40,1)\n",
    "n_iterations = 20\n",
    "parameters = [n_cities,n_paths,mutation_probability,betas,n_iterations, x_coord, y_coord]\n",
    "best_paths = []\n",
    "pool = Pool()\n",
    "for i in range(n_simulations):\n",
    "     best_paths.append(pool.apply_async(run_simulation, parameters).get(timeout=20))"
   ]
  },
  {
   "cell_type": "code",
   "execution_count": 7,
   "metadata": {},
   "outputs": [],
   "source": [
    "def distance (x1, y1, x2, y2):\n",
    "        return math.sqrt((x1-x2)**2 + (y1-y2)**2)"
   ]
  },
  {
   "cell_type": "code",
   "execution_count": 8,
   "metadata": {},
   "outputs": [],
   "source": [
    "unique_paths = np.unique(best_paths, axis=0)\n",
    "if len(unique_paths) == 1:\n",
    "    best_path = unique_paths[0]\n",
    "else:\n",
    "    distances = np.zeros((n_cities,n_cities))\n",
    "    for i in range(n_cities):\n",
    "        for j in range(n_cities):\n",
    "             distances[i,j] = distance( x_coord[i],  y_coord[i],x_coord[j], y_coord[j])\n",
    "        # returns indices ordered by their fitness value\n",
    "    fit_values = np.ones(n_paths)\n",
    "    pos = 0\n",
    "    for path in unique_paths:\n",
    "        l = 0\n",
    "        for i in range(n_cities-2):\n",
    "            l = l + distances[int(path[i]),int(path[i+1])]\n",
    "        #compute the distance from the starting city(0) to the first city in the path\n",
    "        l = l + distances[0,int(path[0])]\n",
    "        #compute the distance from the last city in the path to city 0\n",
    "        l = l + distances[int(path[n_cities-2]),0]\n",
    "        fit_values[pos] = l  \n",
    "        pos = pos + 1\n",
    "    idx = np.argsort(fit_values) [0]\n",
    "    best_path = unique_paths[idx]"
   ]
  },
  {
   "cell_type": "code",
   "execution_count": 9,
   "metadata": {},
   "outputs": [
    {
     "name": "stdout",
     "output_type": "stream",
     "text": [
      "[11.  4.  5.  8. 12. 15.  3.  6.  2.  7.  9.  1. 10. 14. 13.]\n"
     ]
    }
   ],
   "source": [
    "print(best_path)"
   ]
  },
  {
   "cell_type": "code",
   "execution_count": 10,
   "metadata": {},
   "outputs": [
    {
     "ename": "NameError",
     "evalue": "name 'mean_distances' is not defined",
     "output_type": "error",
     "traceback": [
      "\u001b[0;31m---------------------------------------------------------------------------\u001b[0m",
      "\u001b[0;31mNameError\u001b[0m                                 Traceback (most recent call last)",
      "\u001b[0;32m<ipython-input-10-ebbccddcec88>\u001b[0m in \u001b[0;36m<module>\u001b[0;34m\u001b[0m\n\u001b[0;32m----> 1\u001b[0;31m \u001b[0mplt\u001b[0m\u001b[0;34m.\u001b[0m\u001b[0mplot\u001b[0m\u001b[0;34m(\u001b[0m\u001b[0mnp\u001b[0m\u001b[0;34m.\u001b[0m\u001b[0marray\u001b[0m\u001b[0;34m(\u001b[0m\u001b[0mbetas\u001b[0m\u001b[0;34m)\u001b[0m\u001b[0;34m,\u001b[0m\u001b[0mnp\u001b[0m\u001b[0;34m.\u001b[0m\u001b[0marray\u001b[0m\u001b[0;34m(\u001b[0m\u001b[0mmean_distances\u001b[0m\u001b[0;34m)\u001b[0m\u001b[0;34m)\u001b[0m\u001b[0;34m\u001b[0m\u001b[0;34m\u001b[0m\u001b[0m\n\u001b[0m",
      "\u001b[0;31mNameError\u001b[0m: name 'mean_distances' is not defined"
     ]
    }
   ],
   "source": [
    "#plt.plot(np.array(betas),np.array(mean_distances))"
   ]
  },
  {
   "cell_type": "code",
   "execution_count": 11,
   "metadata": {},
   "outputs": [],
   "source": [
    "x = []\n",
    "y = []\n",
    "x.append(x_coord[0]*2000)\n",
    "y.append(y_coord[0]*2000)\n",
    "for i in best_path:\n",
    "    x.append(x_coord[int(i)]*2000)\n",
    "    y.append(y_coord[int(i)]*2000)\n",
    "x.append(x_coord[0]*2000)\n",
    "y.append(y_coord[0]*2000)\n",
    "cities = ['Varese', 'Milano', 'Como', 'Bergamo', 'Brescia', 'Cremona', 'Lecco', 'Lodi', 'Mantova', 'Monza', 'Pavia', 'Sondrio','Venezia', 'Torino', 'Genova','Firenze']"
   ]
  },
  {
   "cell_type": "code",
   "execution_count": 66,
   "metadata": {},
   "outputs": [
    {
     "data": {
      "image/png": "[encoded data removed]",
      "text/plain": [
       "<Figure size 432x288 with 1 Axes>"
      ]
     },
     "metadata": {
      "needs_background": "light"
     },
     "output_type": "display_data"
    }
   ],
   "source": [
    "fig, ax = plt.subplots()\n",
    "ax.plot(x,y, marker='.', color='blue', linestyle='--')\n",
    "ax.plot(x[0],y[0], marker='.', markersize=20, label='staring and ending city', color='red')\n",
    "ax.plot(x[1],y[1], marker='.', markersize=20, label='first city', color='green')\n",
    "ax.plot(x[len(x)-2],y[len(y)-2], marker='.', markersize=20, label='secend to last city', color='orange')\n",
    "plt.title('best path of the travelling salesman')\n",
    "plt.legend(loc = 'lower left')\n",
    "plt.grid(True)\n",
    "fig.savefig('ris.pdf')"
   ]
  },
  {
   "cell_type": "code",
   "execution_count": 64,
   "metadata": {},
   "outputs": [
    {
     "name": "stdout",
     "output_type": "stream",
     "text": [
      "0 Varese\n",
      "1 Milano\n",
      "2 Como\n",
      "3 Bergamo\n",
      "4 Brescia\n",
      "5 Cremona\n",
      "6 Lecco\n",
      "7 Lodi\n",
      "8 Mantova\n",
      "9 Monza\n",
      "10 Pavia\n",
      "11 Sondrio\n",
      "12 Venezia\n",
      "13 Torino\n",
      "14 Genova\n",
      "15 Firenze\n"
     ]
    },
    {
     "data": {
      "image/png": "[encoded data removed]",
      "text/plain": [
       "<Figure size 432x288 with 1 Axes>"
      ]
     },
     "metadata": {
      "needs_background": "light"
     },
     "output_type": "display_data"
    }
   ],
   "source": [
    "fig, ax = plt.subplots()\n",
    "ax.scatter(x_coord, y_coord)\n",
    "for i, txt in enumerate(cities):\n",
    "    ax.annotate(txt, (x_coord[i], y_coord[i]))"
   ]
  }
 ],
 "metadata": {
  "kernelspec": {
   "display_name": "Python 3",
   "language": "python",
   "name": "python3"
  },
  "language_info": {
   "codemirror_mode": {
    "name": "ipython",
    "version": 3
   },
   "file_extension": ".py",
   "mimetype": "text/x-python",
   "name": "python",
   "nbconvert_exporter": "python",
   "pygments_lexer": "ipython3",
   "version": "3.7.1"
  }
 },
 "nbformat": 4,
 "nbformat_minor": 2
}
