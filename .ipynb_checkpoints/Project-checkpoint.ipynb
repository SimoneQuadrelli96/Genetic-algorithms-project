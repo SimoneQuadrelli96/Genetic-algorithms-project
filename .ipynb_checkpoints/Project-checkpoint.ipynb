{
 "cells": [
  {
   "cell_type": "code",
   "execution_count": 8,
   "metadata": {},
   "outputs": [],
   "source": [
    "import random\n",
    "import numpy as np\n",
    "import math\n",
    "import pickle\n",
    "import matplotlib.pyplot as plt"
   ]
  },
  {
   "cell_type": "code",
   "execution_count": 2,
   "metadata": {},
   "outputs": [],
   "source": [
    "class GeneticAlgorithm:\n",
    "    \n",
    "    def __init__(self, n_cities, n_paths, mutation_probability):\n",
    "        self.n_cities = n_cities\n",
    "        self.n_paths = n_paths\n",
    "        self.mutation_probability = mutation_probability\n",
    "         #set up initial population matrix n_paths*(n_cities-1) since we start from city 0\n",
    "        self.population = np.outer(np.ones(n_paths), np.arange(1,n_cities))\n",
    "        self.population = np.apply_along_axis(np.random.permutation, 1, self.population)\n",
    "        \n",
    "    def build_children(self,v1,v2):\n",
    "        intersection = np.intersect1d(v1,v2)\n",
    "        all_cities = np.arange(1,self.n_cities)\n",
    "        # se v1 e v2 non hanno citta in comune\n",
    "        if (len(intersection) > 0):\n",
    "            diff = np.setdiff1d(v1, intersection)\n",
    "            v1 = [o for o in v1 if o in diff]\n",
    "        excluded = np.concatenate((v1,v2))\n",
    "        third = np.setdiff1d(all_cities, excluded)\n",
    "        return np.concatenate((v1,third,v2))\n",
    "    \n",
    "    def distance (self,x1, y1, x2, y2):\n",
    "        return math.sqrt((x1-x2)**2 + (y1-y2)**2)\n",
    "        \n",
    "    def set_cities(self):\n",
    "        self.x_coord = np.random.uniform(0,100,self.n_cities)\n",
    "        self.y_coord = np.random.uniform(10,30,self.n_cities)\n",
    "        self.distances = np.zeros((self.n_cities,self.n_cities))\n",
    "        for i in range(self.n_cities):\n",
    "            for j in range(self.n_cities):\n",
    "                self.distances[i,j] = self.distance( self.x_coord[i],  self.y_coord[i],  self.x_coord[j],  self.y_coord[j])\n",
    "     \n",
    "    def initialize_cities(self,x_coord,y_coord):\n",
    "        self.x_coord = x_coord\n",
    "        self.y_coord = y_coord\n",
    "        self.distances = np.zeros((self.n_cities,self.n_cities))\n",
    "        for i in range(self.n_cities):\n",
    "            for j in range(self.n_cities):\n",
    "                self.distances[i,j] = self.distance( self.x_coord[i],  self.y_coord[i],  self.x_coord[j],  self.y_coord[j])\n",
    "     \n",
    "    def compute_fitness(self):\n",
    "        fit_values = np.ones(self.n_paths)\n",
    "        pos = 0\n",
    "        for path in self.population:\n",
    "            l = 0\n",
    "            for i in range(self.n_cities-2):\n",
    "                l = l + self.distances[int(path[i]),int(path[i+1])]\n",
    "            l = l + self.distances[0,int(path[0])]\n",
    "            l = l + self.distances[int(path[self.n_cities-2]),0]\n",
    "            fit_values[pos] = l  \n",
    "            pos = pos + 1\n",
    "        return np.argsort(fit_values)\n",
    "    \n",
    "    #selection function\n",
    "    # ordina i cammini in base alla fitnes\n",
    "    # genera un numero p tra 0 e n_paths\n",
    "    # scegli i primi p cammini\n",
    "    def selection(self):\n",
    "        indices = self.compute_fitness()\n",
    "        p = np.random.randint(2,self.n_paths,1)\n",
    "        i = 0\n",
    "        self.fittest_parents = np.outer(np.ones(p), np.arange(1,self.n_cities))\n",
    "        while(i < p):\n",
    "            self.fittest_parents[i] = self.population[indices[i]]\n",
    "            i = i+1\n",
    "        #print(\"fittest parents: \")\n",
    "        #print(self.fittest_parents)\n",
    "\n",
    "    # dati i primi x migliori genitori\n",
    "    # per ogni cammino (n_paths)\n",
    "    # scelgo a caso due genitori\n",
    "    # scelgo a caso due punti in cui spezzare\n",
    "    # devo assicurarmi che sia un cammino corretto\n",
    "    def crossbreeding(self):\n",
    "        n_parents = len(self.fittest_parents)\n",
    "        #print(\"n_parents %s \", n_parents )\n",
    "        for i in range(self.n_paths-1):\n",
    "            parent1 = np.random.randint(0,n_parents,1)[0]\n",
    "            parent2 = np.random.randint(0,n_parents,1)[0]\n",
    "            #print(\"p1 %s p2 %s \", parent1, parent2 )\n",
    "            if (parent1 != parent2) :\n",
    "                pos1 = np.random.randint(1,self.n_cities-1,1)[0]\n",
    "                pos2 = np.random.randint(1,self.n_cities-1,1)[0]\n",
    "                #print(\"posizioni in cui dividere\")\n",
    "                #print(pos1,pos2)\n",
    "                parent1 = self.fittest_parents[parent1]\n",
    "                parent2 = self.fittest_parents[parent2]\n",
    "                #print(parent1, parent2)\n",
    "                self.population[i] = self.build_children(parent1[0:pos1], parent2[pos2:])\n",
    "                self.population[i+1] = self.build_children(parent1[pos2:], parent2[0:pos1])\n",
    "                #print(\"population obtained\")\n",
    "                #print( self.population[i],  self.population[i+1])\n",
    "        \n",
    "                \n",
    "    def mutate(self):\n",
    "        p = np.random.uniform(0,1,1)[0]\n",
    "        if (p < self.mutation_probability):\n",
    "            for i in range(self.n_paths):\n",
    "                path = self.population[i]\n",
    "                pos1 = np.random.randint(0,self.n_cities-1,1)[0]\n",
    "                pos2 = np.random.randint(0,self.n_cities-1,1)[0]\n",
    "                path[[pos1, pos2]] = path[[pos2, pos1]]\n",
    "                self.population[i] = path\n",
    "    \n",
    "    def evolve(self):\n",
    "        self.selection()\n",
    "        self.crossbreeding()\n",
    "        self.mutate()\n",
    "    \n",
    "    def best_distance(self):\n",
    "        fit_values = np.ones(self.n_paths)\n",
    "        pos = 0\n",
    "        for path in self.population:\n",
    "            l = 0\n",
    "            for i in range(self.n_cities-2):\n",
    "                l = l + self.distances[int(path[i]),int(path[i+1])]\n",
    "            l = l + self.distances[0,int(path[0])]\n",
    "            l = l + self.distances[int(path[self.n_cities-2]),0]\n",
    "            fit_values[pos] = l  \n",
    "            pos = pos + 1\n",
    "        return np.min(fit_values)\n",
    "    \n",
    "    def mean_distance(self):\n",
    "        fit_values = np.ones(self.n_paths)\n",
    "        pos = 0\n",
    "        for path in self.population:\n",
    "            l = 0\n",
    "            for i in range(self.n_cities-2):\n",
    "                l = l + self.distances[int(path[i]),int(path[i+1])]\n",
    "            l = l + self.distances[0,int(path[0])]\n",
    "            l = l + self.distances[int(path[self.n_cities-2]),0]\n",
    "            fit_values[pos] = l  \n",
    "            pos = pos + 1\n",
    "        return np.min(fit_values)"
   ]
  },
  {
   "cell_type": "code",
   "execution_count": 3,
   "metadata": {},
   "outputs": [],
   "source": [
    "def acceptance(cost_starting_state, cost_new_state, beta):\n",
    "    if cost_new_state <= cost_starting_state:\n",
    "        return True\n",
    "    else:\n",
    "        threshold = np.random.uniform(0,1,1)[0]\n",
    "        p = np.exp(- (cost_new_state - cost_starting_state)*beta)\n",
    "        return np.min(np.array([1,p])) > threshold"
   ]
  },
  {
   "cell_type": "code",
   "execution_count": 4,
   "metadata": {},
   "outputs": [],
   "source": [
    "with open('x.pickle', 'rb') as handle:\n",
    "    x_coord = pickle.load(handle)\n",
    "with open('y.pickle', 'rb') as handle:\n",
    "    y_coord = pickle.load(handle)"
   ]
  },
  {
   "cell_type": "code",
   "execution_count": 7,
   "metadata": {},
   "outputs": [],
   "source": [
    "ga = GeneticAlgorithm(len(x_coord),40, 0.01)\n",
    "ga.initialize_cities(x_coord,y_coord)\n",
    "betas = np.arange(1,20,1)\n",
    "n_iterations = 50\n",
    "mean_distances = []\n",
    "for beta in betas:\n",
    "    for i in range(n_iterations):\n",
    "        cost_starting_state = ga.compute_fitness()\n",
    "        starting_state = ga.population\n",
    "        ga.evolve()\n",
    "        cost_new_state = ga.compute_fitness()\n",
    "        for i in range(ga.n_paths):\n",
    "            if not acceptance(cost_starting_state[i], cost_new_state[i], beta):\n",
    "                  ga.population[i] = starting_state[i]\n",
    "    mean_distances.append(ga.mean_distance())"
   ]
  },
  {
   "cell_type": "code",
   "execution_count": 28,
   "metadata": {},
   "outputs": [
    {
     "data": {
      "text/plain": [
       "[<matplotlib.lines.Line2D at 0x7ff55be8b278>]"
      ]
     },
     "execution_count": 28,
     "metadata": {},
     "output_type": "execute_result"
    },
    {
     "data": {
      "image/png": "[encoded data removed]",
      "text/plain": [
       "<Figure size 432x288 with 1 Axes>"
      ]
     },
     "metadata": {
      "needs_background": "light"
     },
     "output_type": "display_data"
    }
   ],
   "source": [
    "np.array(1/betas)\n",
    "np.array(mean_distances)\n",
    "plt.plot(np.array(betas),np.array(mean_distances))"
   ]
  },
  {
   "cell_type": "code",
   "execution_count": null,
   "metadata": {},
   "outputs": [],
   "source": []
  }
 ],
 "metadata": {
  "kernelspec": {
   "display_name": "Python 3",
   "language": "python",
   "name": "python3"
  },
  "language_info": {
   "codemirror_mode": {
    "name": "ipython",
    "version": 3
   },
   "file_extension": ".py",
   "mimetype": "text/x-python",
   "name": "python",
   "nbconvert_exporter": "python",
   "pygments_lexer": "ipython3",
   "version": "3.7.1"
  }
 },
 "nbformat": 4,
 "nbformat_minor": 2
}
