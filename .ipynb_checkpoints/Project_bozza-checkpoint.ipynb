{
 "cells": [
  {
   "cell_type": "code",
   "execution_count": 1,
   "metadata": {},
   "outputs": [],
   "source": [
    "from deap import base, creator, tools\n",
    "import random\n",
    "import numpy as np\n",
    "import math"
   ]
  },
  {
   "cell_type": "code",
   "execution_count": 2,
   "metadata": {},
   "outputs": [],
   "source": [
    "n_cities = 7\n",
    "n_paths = 5"
   ]
  },
  {
   "cell_type": "code",
   "execution_count": 3,
   "metadata": {},
   "outputs": [
    {
     "data": {
      "text/plain": [
       "array([[4., 1., 6., 3., 5., 2.],\n",
       "       [6., 2., 1., 5., 3., 4.],\n",
       "       [6., 3., 1., 4., 5., 2.],\n",
       "       [2., 5., 6., 1., 4., 3.],\n",
       "       [2., 3., 4., 1., 6., 5.]])"
      ]
     },
     "execution_count": 3,
     "metadata": {},
     "output_type": "execute_result"
    }
   ],
   "source": [
    "# generate a matrix of instances\n",
    "# always start from city 0 and return to it\n",
    "initial_population = np.outer(np.ones(n_paths), np.arange(1,n_cities))\n",
    "initial_population.astype(int)\n",
    "# permute the instances to start\n",
    "initial_population =np.apply_along_axis(np.random.permutation, 1,initial_population )\n",
    "initial_population"
   ]
  },
  {
   "cell_type": "code",
   "execution_count": 4,
   "metadata": {},
   "outputs": [
    {
     "name": "stdout",
     "output_type": "stream",
     "text": [
      "[81.34267892 69.77911849 32.74457065 36.15114283 11.42770209 76.93300154\n",
      " 74.1738121 ]\n",
      "[21.41299639 15.29382337 27.71639664 25.45213994 12.69228254 27.5817326\n",
      " 27.4444541 ]\n"
     ]
    }
   ],
   "source": [
    "# generate position of the cities\n",
    "x_coord = np.random.uniform(0,100,n_cities)\n",
    "y_coord = np.random.uniform(10,30,n_cities)\n",
    "print(x_coord)\n",
    "print(y_coord)"
   ]
  },
  {
   "cell_type": "code",
   "execution_count": 5,
   "metadata": {},
   "outputs": [],
   "source": [
    "#fitness function\n",
    "def distance (x1, y1, x2, y2):\n",
    "    return math.sqrt((x1-x2)**2 + (y1-y2)**2)"
   ]
  },
  {
   "cell_type": "code",
   "execution_count": 6,
   "metadata": {},
   "outputs": [
    {
     "data": {
      "text/plain": [
       "array([[ 0.        , 13.08282111, 49.00519342, 45.37168296, 70.45675862,\n",
       "         7.58278056,  9.36862496],\n",
       "       [13.08282111,  0.        , 39.06248917, 35.12879364, 58.40938119,\n",
       "        14.21867631, 12.92095814],\n",
       "       [49.00519342, 39.06248917,  0.        ,  4.09042692, 26.07935755,\n",
       "        44.18863608, 41.43013396],\n",
       "       [45.37168296, 35.12879364,  4.09042692,  0.        , 27.82197841,\n",
       "        40.83742358, 38.0748302 ],\n",
       "       [70.45675862, 58.40938119, 26.07935755, 27.82197841,  0.        ,\n",
       "        67.1761861 , 64.45696927],\n",
       "       [ 7.58278056, 14.21867631, 44.18863608, 40.83742358, 67.1761861 ,\n",
       "         0.        ,  2.76260235],\n",
       "       [ 9.36862496, 12.92095814, 41.43013396, 38.0748302 , 64.45696927,\n",
       "         2.76260235,  0.        ]])"
      ]
     },
     "execution_count": 6,
     "metadata": {},
     "output_type": "execute_result"
    }
   ],
   "source": [
    "# generate the matrix of the distances\n",
    "#preallocat matrix\n",
    "distances = np.zeros((n_cities,n_cities))\n",
    "for i in range(n_cities):\n",
    "    for j in range(n_cities):\n",
    "        distances[i,j] = distance(x_coord[i], y_coord[i], x_coord[j], y_coord[j])\n",
    "distances"
   ]
  },
  {
   "cell_type": "code",
   "execution_count": 7,
   "metadata": {},
   "outputs": [],
   "source": [
    "# always start from the city 0 and return to it.\n",
    "def compute_fitness(population):\n",
    "    fit_values = np.ones(n_paths)\n",
    "    pos = 0\n",
    "    for path in population:\n",
    "        l = 0\n",
    "        for i in range(n_cities-2):\n",
    "            l = l + distances[int(path[i]),int(path[i+1])]\n",
    "        l = l + distances[0,int(path[0])]\n",
    "        l = l + distances[int(path[n_cities-2]),0]\n",
    "        fit_values[pos] = l  \n",
    "        pos = pos + 1\n",
    "    return np.argsort(-fit_values)"
   ]
  },
  {
   "cell_type": "code",
   "execution_count": 8,
   "metadata": {},
   "outputs": [
    {
     "data": {
      "text/plain": [
       "array([0, 2, 1, 3, 4])"
      ]
     },
     "execution_count": 8,
     "metadata": {},
     "output_type": "execute_result"
    }
   ],
   "source": [
    "compute_fitness(initial_population)"
   ]
  },
  {
   "cell_type": "code",
   "execution_count": 9,
   "metadata": {},
   "outputs": [],
   "source": [
    "#selection function\n",
    "# ordina i cammini in base alla fitnes\n",
    "# genera un numero x tra 0 e n_paths\n",
    "# scegli i primi x cammini\n",
    "def selection(population):\n",
    "    indices = compute_fitness(population)\n",
    "    p = np.random.randint(0,n_paths,1)\n",
    "    i = 0\n",
    "    fittest_parents = np.outer(np.ones(n_paths), np.arange(1,n_cities))\n",
    "    while(i < p):\n",
    "        fittest_parents[i] = population[indices[i]]\n",
    "        i = i+ 1\n",
    "    return fittest_parents"
   ]
  },
  {
   "cell_type": "code",
   "execution_count": 10,
   "metadata": {},
   "outputs": [
    {
     "data": {
      "text/plain": [
       "array([[4., 1., 6., 3., 5., 2.],\n",
       "       [6., 3., 1., 4., 5., 2.],\n",
       "       [6., 2., 1., 5., 3., 4.],\n",
       "       [2., 5., 6., 1., 4., 3.],\n",
       "       [1., 2., 3., 4., 5., 6.]])"
      ]
     },
     "execution_count": 10,
     "metadata": {},
     "output_type": "execute_result"
    }
   ],
   "source": [
    "selection(initial_population)"
   ]
  },
  {
   "cell_type": "code",
   "execution_count": 11,
   "metadata": {},
   "outputs": [],
   "source": [
    "def build_children(v1,v2):\n",
    "    intersection = np.intersect1d(v1,v2)\n",
    "    print(intersection)\n",
    "    all_cities = np.arange(1,n_cities)\n",
    "    # se v1 e v2 non hanno citta in comune\n",
    "    if (len(intersection) > 0):\n",
    "        diff = np.setdiff1d(v1, intersection)\n",
    "        v1 = [o for o in v1 if o in diff]\n",
    "    excluded = np.concatenate((v1,v2))\n",
    "    third = np.setdiff1d(all_cities, excluded)\n",
    "    return np.concatenate((v1,third,v2))"
   ]
  },
  {
   "cell_type": "code",
   "execution_count": 12,
   "metadata": {
    "scrolled": true
   },
   "outputs": [
    {
     "name": "stdout",
     "output_type": "stream",
     "text": [
      "[4 5]\n"
     ]
    },
    {
     "data": {
      "text/plain": [
       "array([2, 1, 6, 3, 4, 5])"
      ]
     },
     "execution_count": 12,
     "metadata": {},
     "output_type": "execute_result"
    }
   ],
   "source": [
    "build_children([2,1,4,5],[3,4,5])"
   ]
  },
  {
   "cell_type": "code",
   "execution_count": 13,
   "metadata": {},
   "outputs": [],
   "source": [
    "# dati i primi x migliori genitori\n",
    "# per ogni cammino (n_paths)\n",
    "# scelgo a caso due genitori\n",
    "# scelgo a caso due punti in cui spezzare\n",
    "# devo assicurarmi che sia un cammino corretto\n",
    "def crossbreeding(population):\n",
    "    parents = selection(population)\n",
    "    n_parents = len(parents)\n",
    "    for i in range(n_paths-1):\n",
    "        parent1 = np.random.randint(0,n_parents,1)\n",
    "        parent2 = np.random.randint(0,n_parents,1)\n",
    "        if (parent1 != parent2) :\n",
    "            pos1 = np.random.randint(0,n_cities,1)[0]\n",
    "            pos2 = np.random.randint(0,n_cities,1)[0]\n",
    "            parent1 = parents[parent1][0]\n",
    "            parent2 = parents[parent2][0]\n",
    "            population[i] = build_children(parent1[0:pos1], parent2[pos2:])\n",
    "            population[i+1] = build_children(parent1[pos2:], parent2[0:pos1])\n",
    "        else:\n",
    "            population[i] = parent1\n",
    "            population[i+1] = parent2\n",
    "    return population     "
   ]
  },
  {
   "cell_type": "code",
   "execution_count": 14,
   "metadata": {},
   "outputs": [
    {
     "name": "stdout",
     "output_type": "stream",
     "text": [
      "[2.]\n",
      "[6.]\n",
      "[]\n",
      "[]\n",
      "[1. 2. 3. 4. 5.]\n",
      "[1. 2. 3. 4. 5.]\n"
     ]
    },
    {
     "data": {
      "text/plain": [
       "array([[1., 3., 4., 5., 6., 2.],\n",
       "       [6., 3., 1., 2., 4., 5.],\n",
       "       [3., 3., 3., 3., 3., 3.],\n",
       "       [1., 2., 3., 4., 5., 6.],\n",
       "       [6., 1., 2., 3., 4., 5.]])"
      ]
     },
     "execution_count": 14,
     "metadata": {},
     "output_type": "execute_result"
    }
   ],
   "source": [
    "crossbreeding(initial_population)"
   ]
  },
  {
   "cell_type": "code",
   "execution_count": 15,
   "metadata": {},
   "outputs": [],
   "source": [
    "#mutate\n",
    "def mutate(population):\n",
    "    for i in range(n_paths):\n",
    "        path = population[i]\n",
    "        pos1 = np.random.randint(0,n_cities-1,1)[0]\n",
    "        pos2 = np.random.randint(0,n_cities-1,1)[0]\n",
    "        print(len(path))\n",
    "        print(pos1,pos2)\n",
    "        path[[pos1, pos2]] = path[[pos2, pos1]]\n",
    "        population[i] = path"
   ]
  },
  {
   "cell_type": "code",
   "execution_count": 16,
   "metadata": {},
   "outputs": [
    {
     "name": "stdout",
     "output_type": "stream",
     "text": [
      "6\n",
      "0 0\n",
      "6\n",
      "4 1\n",
      "6\n",
      "0 1\n",
      "6\n",
      "1 2\n",
      "6\n",
      "1 0\n"
     ]
    }
   ],
   "source": [
    "mutate(initial_population)"
   ]
  },
  {
   "cell_type": "code",
   "execution_count": 17,
   "metadata": {},
   "outputs": [
    {
     "data": {
      "text/plain": [
       "array([[1., 3., 4., 5., 6., 2.],\n",
       "       [6., 4., 1., 2., 3., 5.],\n",
       "       [3., 3., 3., 3., 3., 3.],\n",
       "       [1., 3., 2., 4., 5., 6.],\n",
       "       [1., 6., 2., 3., 4., 5.]])"
      ]
     },
     "execution_count": 17,
     "metadata": {},
     "output_type": "execute_result"
    }
   ],
   "source": [
    "initial_population"
   ]
  },
  {
   "cell_type": "code",
   "execution_count": 18,
   "metadata": {},
   "outputs": [],
   "source": [
    "class GeneticAlgorithm:\n",
    "    \n",
    "    def __init__(self, n_cities, n_paths):\n",
    "        self.n_cities = n_cities\n",
    "        self.n_paths = n_paths\n",
    "         #set up initial population matrix n_paths*(n_cities-1) since we start from city 0\n",
    "        self.population = np.outer(np.ones(n_paths), np.arange(1,n_cities))\n",
    "        self.population = np.apply_along_axis(np.random.permutation, 1,initial_population)\n",
    "        \n",
    "    def build_children(self,v1,v2):\n",
    "        intersection = np.intersect1d(v1,v2)\n",
    "        all_cities = np.arange(1,n_cities)\n",
    "        # se v1 e v2 non hanno citta in comune\n",
    "        if (len(intersection) > 0):\n",
    "            diff = np.setdiff1d(v1, intersection)\n",
    "            v1 = [o for o in v1 if o in diff]\n",
    "        excluded = np.concatenate((v1,v2))\n",
    "        third = np.setdiff1d(all_cities, excluded)\n",
    "        return np.concatenate((v1,third,v2))\n",
    "    \n",
    "    def distance (self,x1, y1, x2, y2):\n",
    "        return math.sqrt((x1-x2)**2 + (y1-y2)**2)\n",
    "        \n",
    "    def set_cities(self):\n",
    "        self.x_coord = np.random.uniform(0,100,self.n_cities)\n",
    "        self.y_coord = np.random.uniform(10,30,self.n_cities)\n",
    "        self.distances = np.zeros((self.n_cities,self.n_cities))\n",
    "        for i in range(self.n_cities):\n",
    "            for j in range(self.n_cities):\n",
    "                self.distances[i,j] = self.distance( self.x_coord[i],  self.y_coord[i],  self.x_coord[j],  self.y_coord[j])\n",
    "     \n",
    "\n",
    "    def compute_fitness(self):\n",
    "        fit_values = np.ones(self.n_paths)\n",
    "        pos = 0\n",
    "        for path in self.population:\n",
    "            l = 0\n",
    "            for i in range(self.n_cities-2):\n",
    "                l = l + self.distances[int(path[i]),int(path[i+1])]\n",
    "            l = l + self.distances[0,int(path[0])]\n",
    "            l = l + self.distances[int(path[n_cities-2]),0]\n",
    "            fit_values[pos] = l  \n",
    "            pos = pos + 1\n",
    "        return np.argsort(-fit_values)\n",
    "    \n",
    "    #selection function\n",
    "    # ordina i cammini in base alla fitnes\n",
    "    # genera un numero x tra 0 e n_paths\n",
    "    # scegli i primi x cammini\n",
    "    def selection(self):\n",
    "        indices = self.compute_fitness()\n",
    "        p = np.random.randint(0,n_paths,1)\n",
    "        i = 0\n",
    "        self.fittest_parents = np.outer(np.ones(self.n_paths), np.arange(1,self.n_cities))\n",
    "        while(i < p):\n",
    "            self.fittest_parents[i] = self.population[indices[i]]\n",
    "            i = i+1\n",
    "\n",
    "    # dati i primi x migliori genitori\n",
    "    # per ogni cammino (n_paths)\n",
    "    # scelgo a caso due genitori\n",
    "    # scelgo a caso due punti in cui spezzare\n",
    "    # devo assicurarmi che sia un cammino corretto\n",
    "    def crossbreeding(self):\n",
    "        n_parents = len(self.fittest_parents)\n",
    "        for i in range(n_paths-1):\n",
    "            parent1 = np.random.randint(0,n_parents,1)\n",
    "            parent2 = np.random.randint(0,n_parents,1)\n",
    "            if (parent1 != parent2) :\n",
    "                pos1 = np.random.randint(0,n_cities,1)[0]\n",
    "                pos2 = np.random.randint(0,n_cities,1)[0]\n",
    "                parent1 = self.fittest_parents[parent1][0]\n",
    "                parent2 = self.fittest_parents[parent2][0]\n",
    "                self.population[i] = self.build_children(parent1[0:pos1], parent2[pos2:])\n",
    "                self.population[i+1] = self.build_children(parent1[pos2:], parent2[0:pos1])\n",
    "            else:\n",
    "                self.population[i] = parent1\n",
    "                self.population[i+1] = parent2\n",
    "                \n",
    "    def mutate(self):\n",
    "        for i in range(self.n_paths):\n",
    "            path = self.population[i]\n",
    "            pos1 = np.random.randint(0,n_cities-1,1)[0]\n",
    "            pos2 = np.random.randint(0,n_cities-1,1)[0]\n",
    "            path[[pos1, pos2]] = path[[pos2, pos1]]\n",
    "            self.population[i] = path\n",
    "    \n",
    "    def evolve(self):\n",
    "        self.selection()\n",
    "        self.crossbreeding()\n",
    "        self.mutate()"
   ]
  },
  {
   "cell_type": "code",
   "execution_count": 19,
   "metadata": {},
   "outputs": [],
   "source": [
    "ga = GeneticAlgorithm(7,5)"
   ]
  },
  {
   "cell_type": "code",
   "execution_count": 20,
   "metadata": {},
   "outputs": [],
   "source": [
    "ga.set_cities()"
   ]
  },
  {
   "cell_type": "code",
   "execution_count": 21,
   "metadata": {},
   "outputs": [
    {
     "data": {
      "text/plain": [
       "array([1, 4, 3, 0, 2])"
      ]
     },
     "execution_count": 21,
     "metadata": {},
     "output_type": "execute_result"
    }
   ],
   "source": [
    "ga.compute_fitness()"
   ]
  },
  {
   "cell_type": "code",
   "execution_count": 22,
   "metadata": {},
   "outputs": [],
   "source": [
    "ga.selection()"
   ]
  },
  {
   "cell_type": "code",
   "execution_count": 23,
   "metadata": {},
   "outputs": [],
   "source": [
    "ga.crossbreeding()"
   ]
  },
  {
   "cell_type": "code",
   "execution_count": 24,
   "metadata": {},
   "outputs": [
    {
     "data": {
      "text/plain": [
       "array([[0., 0., 0., 0., 0., 0.],\n",
       "       [4., 3., 1., 2., 6., 5.],\n",
       "       [1., 2., 3., 4., 5., 6.],\n",
       "       [1., 2., 3., 4., 5., 6.],\n",
       "       [2., 3., 4., 5., 6., 1.]])"
      ]
     },
     "execution_count": 24,
     "metadata": {},
     "output_type": "execute_result"
    }
   ],
   "source": [
    "ga.population"
   ]
  },
  {
   "cell_type": "code",
   "execution_count": 25,
   "metadata": {},
   "outputs": [],
   "source": [
    "ga.mutate()"
   ]
  },
  {
   "cell_type": "code",
   "execution_count": 26,
   "metadata": {},
   "outputs": [
    {
     "data": {
      "text/plain": [
       "array([[0., 0., 0., 0., 0., 0.],\n",
       "       [4., 3., 1., 2., 5., 6.],\n",
       "       [4., 2., 3., 1., 5., 6.],\n",
       "       [1., 2., 5., 4., 3., 6.],\n",
       "       [1., 3., 4., 5., 6., 2.]])"
      ]
     },
     "execution_count": 26,
     "metadata": {},
     "output_type": "execute_result"
    }
   ],
   "source": [
    "ga.population"
   ]
  },
  {
   "cell_type": "code",
   "execution_count": 27,
   "metadata": {},
   "outputs": [],
   "source": [
    "ga.evolve()"
   ]
  }
 ],
 "metadata": {
  "kernelspec": {
   "display_name": "Python 3",
   "language": "python",
   "name": "python3"
  },
  "language_info": {
   "codemirror_mode": {
    "name": "ipython",
    "version": 3
   },
   "file_extension": ".py",
   "mimetype": "text/x-python",
   "name": "python",
   "nbconvert_exporter": "python",
   "pygments_lexer": "ipython3",
   "version": "3.7.1"
  }
 },
 "nbformat": 4,
 "nbformat_minor": 2
}
