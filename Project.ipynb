{
 "cells": [
  {
   "cell_type": "code",
   "execution_count": 1,
   "metadata": {},
   "outputs": [],
   "source": [
    "from deap import base, creator, tools\n",
    "import random\n",
    "import numpy as np\n",
    "import math"
   ]
  },
  {
   "cell_type": "code",
   "execution_count": 2,
   "metadata": {},
   "outputs": [],
   "source": [
    "n_cities = 9"
   ]
  },
  {
   "cell_type": "code",
   "execution_count": 3,
   "metadata": {},
   "outputs": [
    {
     "data": {
      "text/plain": [
       "array([[2., 1., 4., 0., 6., 3., 7., 5., 8.],\n",
       "       [8., 3., 2., 7., 4., 0., 5., 1., 6.],\n",
       "       [6., 3., 1., 0., 8., 5., 7., 4., 2.],\n",
       "       [2., 0., 7., 1., 6., 8., 5., 3., 4.],\n",
       "       [3., 5., 4., 6., 8., 1., 0., 7., 2.],\n",
       "       [1., 5., 4., 3., 6., 2., 0., 7., 8.],\n",
       "       [2., 1., 7., 8., 5., 6., 3., 4., 0.],\n",
       "       [4., 0., 1., 8., 6., 3., 5., 7., 2.],\n",
       "       [6., 3., 0., 7., 5., 2., 8., 1., 4.]])"
      ]
     },
     "execution_count": 3,
     "metadata": {},
     "output_type": "execute_result"
    }
   ],
   "source": [
    "# generate a matrix of instances\n",
    "initial_population = np.outer(np.ones(n_cities), np.arange(0,n_cities))\n",
    "initial_population.astype(int)\n",
    "# permute the instances to start\n",
    "initial_population =np.apply_along_axis(np.random.permutation, 1,initial_population )\n",
    "initial_population"
   ]
  },
  {
   "cell_type": "code",
   "execution_count": 4,
   "metadata": {},
   "outputs": [
    {
     "name": "stdout",
     "output_type": "stream",
     "text": [
      "[31.17614286 17.51874301 64.1489014  87.58190742  7.57429515 72.4406655\n",
      "  9.81047328  8.90430425 79.75842205]\n",
      "[22.9595811  24.06389528 16.85481982 20.69024992 10.89689322 15.19068157\n",
      " 14.84076135 23.92026477 29.52173615]\n"
     ]
    }
   ],
   "source": [
    "# generate position of the cities\n",
    "x_coord = np.random.uniform(0,100,n_cities)\n",
    "y_coord = np.random.uniform(10,30,n_cities)\n",
    "print(x_coord)\n",
    "print(y_coord)"
   ]
  },
  {
   "cell_type": "code",
   "execution_count": 5,
   "metadata": {},
   "outputs": [],
   "source": [
    "#fitness function\n",
    "def distance (x1, y1, x2, y2):\n",
    "    return math.sqrt((x1-x2)**2 + (y1-y2)**2)"
   ]
  },
  {
   "cell_type": "code",
   "execution_count": 6,
   "metadata": {},
   "outputs": [
    {
     "data": {
      "text/plain": [
       "array([[ 0.        , 13.7019736 , 33.53313162, 56.45139626, 26.50576643,\n",
       "        41.98948236, 22.85622608, 22.29254826, 49.02346102],\n",
       "       [13.7019736 ,  0.        , 47.18413336, 70.1443404 , 16.50036323,\n",
       "        55.6340857 , 12.02013402,  8.61563607, 62.47852171],\n",
       "       [33.53313162, 47.18413336,  0.        , 23.74481617, 56.88745874,\n",
       "         8.45710991, 54.37574093, 55.69457807, 20.10243529],\n",
       "       [56.45139626, 70.1443404 , 23.74481617,  0.        , 80.60476323,\n",
       "        16.10908001, 77.99110516, 78.74387745, 11.79839278],\n",
       "       [26.50576643, 16.50036323, 56.88745874, 80.60476323,  0.        ,\n",
       "        65.00832732,  4.53371685, 13.09110884, 74.54819214],\n",
       "       [41.98948236, 55.6340857 ,  8.45710991, 16.10908001, 65.00832732,\n",
       "         0.        , 62.63116973, 64.13325833, 16.09126118],\n",
       "       [22.85622608, 12.02013402, 54.37574093, 77.99110516,  4.53371685,\n",
       "        62.63116973,  0.        ,  9.12461093, 71.47199842],\n",
       "       [22.29254826,  8.61563607, 55.69457807, 78.74387745, 13.09110884,\n",
       "        64.13325833,  9.12461093,  0.        , 71.075189  ],\n",
       "       [49.02346102, 62.47852171, 20.10243529, 11.79839278, 74.54819214,\n",
       "        16.09126118, 71.47199842, 71.075189  ,  0.        ]])"
      ]
     },
     "execution_count": 6,
     "metadata": {},
     "output_type": "execute_result"
    }
   ],
   "source": [
    "# generate the matrix of the distances\n",
    "#preallocat matrix\n",
    "distances = np.zeros((n_cities,n_cities))\n",
    "for i in range(n_cities):\n",
    "    for j in range(n_cities):\n",
    "        distances[i,j] = distance(x_coord[i], y_coord[i], x_coord[j], y_coord[j])\n",
    "distances"
   ]
  },
  {
   "cell_type": "code",
   "execution_count": 7,
   "metadata": {},
   "outputs": [],
   "source": [
    "#selection function\n",
    "def compute_fitness(population):\n",
    "    fit_values = np.ones(n_cities)\n",
    "    pos = 0\n",
    "    for path in population:\n",
    "        l = 0\n",
    "        for i in range(n_cities-1):\n",
    "            l = l + distances[int(path[i]),int(path[i+1])]\n",
    "        fit_values[pos] = l  \n",
    "        pos = pos + 1\n",
    "    p =fit_values/np.sum(fit_values)\n",
    "    return fit_values, p"
   ]
  },
  {
   "cell_type": "code",
   "execution_count": 8,
   "metadata": {},
   "outputs": [],
   "source": [
    "def selection(population):\n",
    "    _, p = compute_fitness(population)\n",
    "    # generation with replacement\n",
    "    indices = np.random.choice(np.arange(n_cities), n_cities, p=p)\n",
    "    print(indices)\n",
    "    selected_population = np.outer(np.ones(n_cities), np.arange(0,n_cities))\n",
    "    for i in range(n_cities):\n",
    "        selected_population[i] = population[indices[i]]\n",
    "    return selected_population"
   ]
  },
  {
   "cell_type": "code",
   "execution_count": null,
   "metadata": {},
   "outputs": [],
   "source": [
    "# come fare la mutazione\n",
    "def mutate(p, path):"
   ]
  },
  {
   "cell_type": "code",
   "execution_count": null,
   "metadata": {},
   "outputs": [],
   "source": [
    "# come fare il crossbreeding"
   ]
  },
  {
   "cell_type": "code",
   "execution_count": null,
   "metadata": {},
   "outputs": [],
   "source": [
    "# dove posizionare il metropolis"
   ]
  }
 ],
 "metadata": {
  "kernelspec": {
   "display_name": "Python 3",
   "language": "python",
   "name": "python3"
  },
  "language_info": {
   "codemirror_mode": {
    "name": "ipython",
    "version": 3
   },
   "file_extension": ".py",
   "mimetype": "text/x-python",
   "name": "python",
   "nbconvert_exporter": "python",
   "pygments_lexer": "ipython3",
   "version": "3.7.1"
  }
 },
 "nbformat": 4,
 "nbformat_minor": 2
}
