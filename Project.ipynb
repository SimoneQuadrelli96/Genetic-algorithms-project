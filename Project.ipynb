{
 "cells": [
  {
   "cell_type": "code",
   "execution_count": 1,
   "metadata": {},
   "outputs": [],
   "source": [
    "from deap import base, creator, tools\n",
    "import random\n",
    "import numpy as np\n",
    "import math"
   ]
  },
  {
   "cell_type": "code",
   "execution_count": 2,
   "metadata": {},
   "outputs": [],
   "source": [
    "n_cities = 7\n",
    "n_paths = 5"
   ]
  },
  {
   "cell_type": "code",
   "execution_count": 3,
   "metadata": {},
   "outputs": [
    {
     "data": {
      "text/plain": [
       "array([[3., 1., 6., 5., 2., 4.],\n",
       "       [3., 5., 4., 6., 1., 2.],\n",
       "       [2., 1., 5., 4., 6., 3.],\n",
       "       [3., 4., 5., 1., 6., 2.],\n",
       "       [4., 5., 3., 6., 2., 1.]])"
      ]
     },
     "execution_count": 3,
     "metadata": {},
     "output_type": "execute_result"
    }
   ],
   "source": [
    "# generate a matrix of instances\n",
    "# always start from city 0 and return to it\n",
    "initial_population = np.outer(np.ones(n_paths), np.arange(1,n_cities))\n",
    "initial_population.astype(int)\n",
    "# permute the instances to start\n",
    "initial_population =np.apply_along_axis(np.random.permutation, 1,initial_population )\n",
    "initial_population"
   ]
  },
  {
   "cell_type": "code",
   "execution_count": 4,
   "metadata": {},
   "outputs": [
    {
     "name": "stdout",
     "output_type": "stream",
     "text": [
      "[38.11567391 53.26326768 15.06103601 46.17594835 68.40836695 20.93845485\n",
      " 42.95670411]\n",
      "[19.08660874 11.22029834 25.64620278 29.15054996 13.01477592 18.08412583\n",
      " 20.93747047]\n"
     ]
    }
   ],
   "source": [
    "# generate position of the cities\n",
    "x_coord = np.random.uniform(0,100,n_cities)\n",
    "y_coord = np.random.uniform(10,30,n_cities)\n",
    "print(x_coord)\n",
    "print(y_coord)"
   ]
  },
  {
   "cell_type": "code",
   "execution_count": 5,
   "metadata": {},
   "outputs": [],
   "source": [
    "#fitness function\n",
    "def distance (x1, y1, x2, y2):\n",
    "    return math.sqrt((x1-x2)**2 + (y1-y2)**2)"
   ]
  },
  {
   "cell_type": "code",
   "execution_count": 6,
   "metadata": {},
   "outputs": [
    {
     "data": {
      "text/plain": [
       "array([[ 0.        , 17.06834603, 23.96966004, 12.89383329, 30.89521655,\n",
       "        17.20644724,  5.18278521],\n",
       "       [17.06834603,  0.        , 40.83524487, 19.28014571, 15.25103871,\n",
       "        33.04550881, 14.1650516 ],\n",
       "       [23.96966004, 40.83524487,  0.        , 31.31163073, 54.8223555 ,\n",
       "         9.57752891, 28.29028912],\n",
       "       [12.89383329, 19.28014571, 31.31163073,  0.        , 27.47077795,\n",
       "        27.55715553,  8.82146293],\n",
       "       [30.89521655, 15.25103871, 54.8223555 , 27.47077795,  0.        ,\n",
       "        47.73982471, 26.65626062],\n",
       "       [17.20644724, 33.04550881,  9.57752891, 27.55715553, 47.73982471,\n",
       "         0.        , 22.20236195],\n",
       "       [ 5.18278521, 14.1650516 , 28.29028912,  8.82146293, 26.65626062,\n",
       "        22.20236195,  0.        ]])"
      ]
     },
     "execution_count": 6,
     "metadata": {},
     "output_type": "execute_result"
    }
   ],
   "source": [
    "# generate the matrix of the distances\n",
    "#preallocat matrix\n",
    "distances = np.zeros((n_cities,n_cities))\n",
    "for i in range(n_cities):\n",
    "    for j in range(n_cities):\n",
    "        distances[i,j] = distance(x_coord[i], y_coord[i], x_coord[j], y_coord[j])\n",
    "distances"
   ]
  },
  {
   "cell_type": "code",
   "execution_count": 7,
   "metadata": {},
   "outputs": [],
   "source": [
    "# always start from the city 0 and return to it.\n",
    "def compute_fitness(population):\n",
    "    fit_values = np.ones(n_paths)\n",
    "    pos = 0\n",
    "    for path in population:\n",
    "        l = 0\n",
    "        for i in range(n_cities-2):\n",
    "            l = l + distances[int(path[i]),int(path[i+1])]\n",
    "        l = l + distances[0,int(path[0])]\n",
    "        l = l + distances[int(path[n_cities-2]),0]\n",
    "        fit_values[pos] = l  \n",
    "        pos = pos + 1\n",
    "    return np.argsort(-fit_values)"
   ]
  },
  {
   "cell_type": "code",
   "execution_count": 8,
   "metadata": {},
   "outputs": [
    {
     "data": {
      "text/plain": [
       "array([4, 2, 1, 3, 0])"
      ]
     },
     "execution_count": 8,
     "metadata": {},
     "output_type": "execute_result"
    }
   ],
   "source": [
    "compute_fitness(initial_population)"
   ]
  },
  {
   "cell_type": "code",
   "execution_count": 9,
   "metadata": {},
   "outputs": [],
   "source": [
    "#selection function\n",
    "# ordina i cammini in base alla fitnes\n",
    "# genera un numero x tra 0 e n_paths\n",
    "# scegli i primi x cammini\n",
    "def selection(population):\n",
    "    indices = compute_fitness(population)\n",
    "    p = np.random.randint(0,n_paths,1)\n",
    "    i = 0\n",
    "    fittest_parents = np.outer(np.ones(n_paths), np.arange(1,n_cities))\n",
    "    while(i < p):\n",
    "        fittest_parents[i] = population[indices[i]]\n",
    "        i = i+ 1\n",
    "    return fittest_parents"
   ]
  },
  {
   "cell_type": "code",
   "execution_count": 10,
   "metadata": {},
   "outputs": [
    {
     "data": {
      "text/plain": [
       "array([[1., 2., 3., 4., 5., 6.],\n",
       "       [1., 2., 3., 4., 5., 6.],\n",
       "       [1., 2., 3., 4., 5., 6.],\n",
       "       [1., 2., 3., 4., 5., 6.],\n",
       "       [1., 2., 3., 4., 5., 6.]])"
      ]
     },
     "execution_count": 10,
     "metadata": {},
     "output_type": "execute_result"
    }
   ],
   "source": [
    "selection(initial_population)"
   ]
  },
  {
   "cell_type": "code",
   "execution_count": 11,
   "metadata": {},
   "outputs": [],
   "source": [
    "def build_children(v1,v2):\n",
    "    intersection = np.intersect1d(v1,v2)\n",
    "    print(intersection)\n",
    "    all_cities = np.arange(1,n_cities)\n",
    "    # se v1 e v2 non hanno citta in comune\n",
    "    if (len(intersection) > 0):\n",
    "        diff = np.setdiff1d(v1, intersection)\n",
    "        v1 = [o for o in v1 if o in diff]\n",
    "    excluded = np.concatenate((v1,v2))\n",
    "    third = np.setdiff1d(all_cities, excluded)\n",
    "    return np.concatenate((v1,third,v2))"
   ]
  },
  {
   "cell_type": "code",
   "execution_count": 14,
   "metadata": {
    "scrolled": true
   },
   "outputs": [
    {
     "name": "stdout",
     "output_type": "stream",
     "text": [
      "[4 5]\n"
     ]
    },
    {
     "data": {
      "text/plain": [
       "array([2, 1, 6, 3, 4, 5])"
      ]
     },
     "execution_count": 14,
     "metadata": {},
     "output_type": "execute_result"
    }
   ],
   "source": [
    "build_children([2,1,4,5],[3,4,5])"
   ]
  },
  {
   "cell_type": "code",
   "execution_count": 34,
   "metadata": {},
   "outputs": [],
   "source": [
    "# dati i primi x migliori genitori\n",
    "# per ogni cammino (n_paths)\n",
    "# scelgo a caso due genitori\n",
    "# scelgo a caso due punti in cui spezzare\n",
    "# devo assicurarmi che sia un cammino corretto\n",
    "def crossbreeding(population):\n",
    "    parents = selection(population)\n",
    "    n_parents = len(parents)\n",
    "    for i in range(n_paths-1):\n",
    "        parent1 = np.random.randint(0,n_parents,1)\n",
    "        parent2 = np.random.randint(0,n_parents,1)\n",
    "        if (parent1 != parent2) :\n",
    "            pos1 = np.random.randint(0,n_cities,1)[0]\n",
    "            pos2 = np.random.randint(0,n_cities,1)[0]\n",
    "            parent1 = parents[parent1][0]\n",
    "            parent2 = parents[parent2][0]\n",
    "            population[i] = build_children(parent1[0:pos1], parent2[pos2:])\n",
    "            population[i+1] = build_children(parent1[pos2:], parent2[0:pos1])\n",
    "        else:\n",
    "            population[i] = parent1\n",
    "            population[i+1] = parent2\n",
    "    return population     "
   ]
  },
  {
   "cell_type": "code",
   "execution_count": 35,
   "metadata": {},
   "outputs": [
    {
     "name": "stdout",
     "output_type": "stream",
     "text": [
      "[3. 4. 5.]\n",
      "[1. 2.]\n",
      "[1. 2. 3. 4. 5.]\n",
      "[1. 2. 3. 4. 5.]\n"
     ]
    },
    {
     "data": {
      "text/plain": [
       "array([[0., 0., 0., 0., 0., 0.],\n",
       "       [2., 2., 2., 2., 2., 2.],\n",
       "       [1., 2., 3., 4., 5., 6.],\n",
       "       [1., 2., 3., 4., 5., 6.],\n",
       "       [6., 1., 2., 3., 4., 5.]])"
      ]
     },
     "execution_count": 35,
     "metadata": {},
     "output_type": "execute_result"
    }
   ],
   "source": [
    "crossbreeding(initial_population)"
   ]
  },
  {
   "cell_type": "code",
   "execution_count": null,
   "metadata": {},
   "outputs": [],
   "source": [
    "#mutate"
   ]
  }
 ],
 "metadata": {
  "kernelspec": {
   "display_name": "Python 3",
   "language": "python",
   "name": "python3"
  },
  "language_info": {
   "codemirror_mode": {
    "name": "ipython",
    "version": 3
   },
   "file_extension": ".py",
   "mimetype": "text/x-python",
   "name": "python",
   "nbconvert_exporter": "python",
   "pygments_lexer": "ipython3",
   "version": "3.7.1"
  }
 },
 "nbformat": 4,
 "nbformat_minor": 2
}
