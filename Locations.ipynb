{
 "cells": [
  {
   "cell_type": "code",
   "execution_count": null,
   "metadata": {},
   "outputs": [],
   "source": [
    "from geopy.geocoders import Nominatim\n",
    "import pickle \n",
    "geolocator = Nominatim(user_agent=\"python project\")\n",
    "cities = ['Varese', 'Milano', 'Como', 'Bergamo', 'Brescia', 'Cremona', 'Lecco', 'Lodi', 'Mantova', 'Monza', 'Pavia', 'Sondrio','Venezia', 'Torino', 'Genova','Firenze']\n",
    "x_coord = []\n",
    "y_coord = []\n",
    "for city in cities: \n",
    "    location = geolocator.geocode(city)\n",
    "    x_coord.append(location.longitude)\n",
    "    y_coord.append(location.latitude)\n",
    "    \n",
    "with open('x.pickle', 'wb') as handle:\n",
    "    pickle.dump(x_coord, handle)\n",
    "with open('y.pickle', 'wb') as handle:\n",
    "    pickle.dump(y_coord, handle)"
   ]
  }
 ],
 "metadata": {
  "kernelspec": {
   "display_name": "Python 3",
   "language": "python",
   "name": "python3"
  },
  "language_info": {
   "codemirror_mode": {
    "name": "ipython",
    "version": 3
   },
   "file_extension": ".py",
   "mimetype": "text/x-python",
   "name": "python",
   "nbconvert_exporter": "python",
   "pygments_lexer": "ipython3",
   "version": "3.7.1"
  }
 },
 "nbformat": 4,
 "nbformat_minor": 2
}
